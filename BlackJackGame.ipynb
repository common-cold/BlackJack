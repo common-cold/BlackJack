{
 "cells": [
  {
   "cell_type": "code",
   "execution_count": 1,
   "metadata": {},
   "outputs": [],
   "source": [
    "#BlackJack game"
   ]
  },
  {
   "cell_type": "code",
   "execution_count": 17,
   "metadata": {},
   "outputs": [],
   "source": [
    "import random"
   ]
  },
  {
   "cell_type": "code",
   "execution_count": 18,
   "metadata": {},
   "outputs": [],
   "source": [
    "from random import shuffle"
   ]
  },
  {
   "cell_type": "code",
   "execution_count": 19,
   "metadata": {},
   "outputs": [],
   "source": [
    "from random import choice"
   ]
  },
  {
   "cell_type": "code",
   "execution_count": 20,
   "metadata": {},
   "outputs": [],
   "source": [
    "suits=('Hearts', 'Diamonds', 'Clubs', 'Spades')\n",
    "ranks=('Two', 'Three', 'Four', 'Five', 'Six', 'Seven', 'Eight', 'Nine', 'Ten', 'Jack', 'King', 'Queen', 'Ace')\n",
    "values={'Ace':1, 'Two':2, 'Three':3, 'Four':4, 'Five':5, 'Six':6, 'Seven':7, 'Eight':8, 'Nine':9, 'Ten':10,\n",
    "       'Jack':10, 'Queen':10, 'King':10}"
   ]
  },
  {
   "cell_type": "code",
   "execution_count": 21,
   "metadata": {},
   "outputs": [],
   "source": [
    "#Creating Card Class\n",
    "class Card():\n",
    "    \n",
    "    def __init__(self,suit,rank):\n",
    "        self.suit=suit\n",
    "        self.rank=rank\n",
    "        self.value=values[rank]\n",
    "        \n",
    "    def __str__(self):\n",
    "        return self.rank + ' of ' + self.suit"
   ]
  },
  {
   "cell_type": "code",
   "execution_count": 22,
   "metadata": {},
   "outputs": [],
   "source": [
    "#Creating Deck Card\n",
    "class Deck(): \n",
    "    def __init__(self):\n",
    "        self.deck=[]\n",
    "        for x in suits:\n",
    "            for y in ranks:\n",
    "                self.deck.append(Card(x,y))\n",
    "                \n",
    "    def shuffle(self):\n",
    "        shuffle(self.deck)\n",
    "        \n",
    "    def pop(self):\n",
    "        return self.deck.pop()"
   ]
  },
  {
   "cell_type": "code",
   "execution_count": 23,
   "metadata": {},
   "outputs": [],
   "source": [
    "#Creating Player Class\n",
    "class Player():\n",
    "\n",
    "    def __init__(self,name,total_money):\n",
    "        self.name=name\n",
    "        self.total_money=total_money\n",
    "        self.card_list=[]\n",
    "        self.bet=0\n",
    "        self.cards_sum=0\n",
    "    \n",
    "    def place_bet(self):  \n",
    "        high_bet=True\n",
    "        while high_bet:\n",
    "            self.bet=int(input(f\"{self.name} place your bet: \"))\n",
    "\n",
    "            if self.bet<self.total_money or self.bet==self.total_money:\n",
    "                self.total_money=self.total_money-self.bet\n",
    "                high_bet=False\n",
    "            else:\n",
    "                print(\"Insufficient Balance!!\")\n",
    "                print(f\"Balance available: {self.total_money}\")\n",
    "                \n",
    "    \n",
    "    def add_card(self,card):\n",
    "        if card.rank=='Ace':\n",
    "            if self.name=='Computer':\n",
    "                card.value=random.choice([1,11])\n",
    "            else:\n",
    "                card.value=int(input(\"Choose your Ace value (1/11): \"))\n",
    "        self.card_list.append(card)  \n",
    "        self.cards_sum=self.cards_sum + card.value\n",
    "    \n",
    "    \n",
    "    def stats(self):\n",
    "            print(\"-----------------------------------------------------------\")\n",
    "            #PLayer Name\n",
    "            print(f\"{self.name}:\\n\")\n",
    "            \n",
    "            #Card list\n",
    "            print([x.rank for x in self.card_list])\n",
    "\n",
    "            #Sum of Cards\n",
    "            print(f\"CARD SUM: {self.cards_sum}\\n\")\n",
    "             \n",
    "            #Bet Placed\n",
    "            print(f\"BET: {self.bet}\")\n",
    "            \n",
    "            #total money\n",
    "            print(f\"TOTAL MONEY: {self.total_money}\\n\")\n",
    "            print(\"-----------------------------------------------------------\")\n",
    "            \n",
    "            \n",
    "    def money_updater(self,loser_bet=0):\n",
    "        self.total_money = self.total_money + self.bet + loser_bet"
   ]
  },
  {
   "cell_type": "code",
   "execution_count": 14,
   "metadata": {},
   "outputs": [],
   "source": [
    "pp=Card(suits[0],ranks[12])"
   ]
  },
  {
   "cell_type": "code",
   "execution_count": 15,
   "metadata": {},
   "outputs": [],
   "source": [
    "v=Computer()"
   ]
  },
  {
   "cell_type": "code",
   "execution_count": 16,
   "metadata": {},
   "outputs": [],
   "source": [
    "v.add_card(pp)"
   ]
  },
  {
   "cell_type": "code",
   "execution_count": 24,
   "metadata": {},
   "outputs": [],
   "source": [
    "class Computer(Player):\n",
    "     \n",
    "        def __init__(self):\n",
    "            self.name='Computer'\n",
    "            self.total_money=1000\n",
    "            self.card_list=[]\n",
    "            self.bet=0\n",
    "            self.cards_sum=0\n",
    "        \n",
    "        #only the first card will be hidden from player\n",
    "        def hidden_stats(self):\n",
    "            print(\"-----------------------------------------------------------\")\n",
    "            #Player Name\n",
    "            print(f\"{self.name}:\\n\")\n",
    "            \n",
    "            #Card List\n",
    "            print(f\"['HIDDEN'], {[x.rank for x in self.card_list[1:]]}]\")\n",
    "            #Bet Placed\n",
    "            print(f\"BET: {self.bet}\\n\")\n",
    "            print(\"-----------------------------------------------------------\")\n",
    "        \n",
    "        def place_bet(self,player_bet):\n",
    "            self.bet=player_bet\n",
    "\n",
    "            if self.bet<self.total_money:\n",
    "                self.total_money=self.total_money-self.bet\n",
    "\n",
    "            else:\n",
    "                self.total_money=self.total_money+1000\n"
   ]
  },
  {
   "cell_type": "code",
   "execution_count": 25,
   "metadata": {},
   "outputs": [],
   "source": [
    "def create_player(player_name, player_money):    \n",
    "    P1=Player(player_name, player_money)\n",
    "    P2=Computer()\n",
    "    mydeck=Deck()\n",
    "    mydeck.shuffle()\n",
    "    return P1,P2,mydeck"
   ]
  },
  {
   "cell_type": "code",
   "execution_count": 26,
   "metadata": {},
   "outputs": [
    {
     "name": "stdout",
     "output_type": "stream",
     "text": [
      "1. Single Player vs Automated Dealer \n",
      "\n",
      "2. Hit cards without going beyond value 21 \n",
      "\n",
      "3. Dealer must hit till 17 \n",
      "\n",
      "4. Person with least value or beyond 21 loses \n",
      "\n",
      "Press 'Y' to play: y\n",
      "Enter your in-game name: CommonCOld\n",
      "Enter your total money: 500\n",
      "CommonCOld place your bet: 200\n",
      "-----------------------------------------------------------\n",
      "CommonCOld:\n",
      "\n",
      "['Two', 'Three']\n",
      "CARD SUM: 5\n",
      "\n",
      "BET: 200\n",
      "TOTAL MONEY: 300\n",
      "\n",
      "-----------------------------------------------------------\n",
      "-----------------------------------------------------------\n",
      "Computer:\n",
      "\n",
      "['HIDDEN'], ['Jack']]\n",
      "BET: 200\n",
      "\n",
      "-----------------------------------------------------------\n",
      "\n",
      "\n",
      "-----------------------------------------------------------\n",
      "CommonCOld:\n",
      "\n",
      "['Two', 'Three']\n",
      "CARD SUM: 5\n",
      "\n",
      "BET: 200\n",
      "TOTAL MONEY: 300\n",
      "\n",
      "-----------------------------------------------------------\n",
      "CommonCOld's turn \n",
      "\n",
      "HIT OR STAY (1/2)? 1\n",
      "-----------------------------------------------------------\n",
      "CommonCOld:\n",
      "\n",
      "['Two', 'Three', 'Ten']\n",
      "CARD SUM: 15\n",
      "\n",
      "BET: 200\n",
      "TOTAL MONEY: 300\n",
      "\n",
      "-----------------------------------------------------------\n",
      "HIT OR STAY (1/2)? 2\n",
      "\n",
      "\n",
      "-----------------------------------------------------------\n",
      "Computer:\n",
      "\n",
      "['Nine', 'Jack']\n",
      "CARD SUM: 19\n",
      "\n",
      "BET: 200\n",
      "TOTAL MONEY: 800\n",
      "\n",
      "-----------------------------------------------------------\n",
      "Computer's turn \n",
      "\n",
      "-----------------------------------------------------------\n",
      "Computer:\n",
      "\n",
      "['Nine', 'Jack', 'Four']\n",
      "CARD SUM: 23\n",
      "\n",
      "BET: 200\n",
      "TOTAL MONEY: 800\n",
      "\n",
      "-----------------------------------------------------------\n",
      "BUST!!!\n",
      "CommonCOld WINS!!\n",
      "Want to play again (Y/N): y\n",
      "CommonCOld place your bet: 800\n",
      "Insufficient Balance!!\n",
      "Balance available: 700\n",
      "CommonCOld place your bet: 700\n",
      "-----------------------------------------------------------\n",
      "CommonCOld:\n",
      "\n",
      "['Six', 'Nine']\n",
      "CARD SUM: 15\n",
      "\n",
      "BET: 700\n",
      "TOTAL MONEY: 0\n",
      "\n",
      "-----------------------------------------------------------\n",
      "-----------------------------------------------------------\n",
      "Computer:\n",
      "\n",
      "['HIDDEN'], ['Six']]\n",
      "BET: 700\n",
      "\n",
      "-----------------------------------------------------------\n",
      "\n",
      "\n",
      "-----------------------------------------------------------\n",
      "CommonCOld:\n",
      "\n",
      "['Six', 'Nine']\n",
      "CARD SUM: 15\n",
      "\n",
      "BET: 700\n",
      "TOTAL MONEY: 0\n",
      "\n",
      "-----------------------------------------------------------\n",
      "CommonCOld's turn \n",
      "\n",
      "HIT OR STAY (1/2)? 2\n",
      "\n",
      "\n",
      "-----------------------------------------------------------\n",
      "Computer:\n",
      "\n",
      "['Four', 'Six']\n",
      "CARD SUM: 10\n",
      "\n",
      "BET: 700\n",
      "TOTAL MONEY: 100\n",
      "\n",
      "-----------------------------------------------------------\n",
      "Computer's turn \n",
      "\n",
      "-----------------------------------------------------------\n",
      "Computer:\n",
      "\n",
      "['Four', 'Six', 'Ace']\n",
      "CARD SUM: 21\n",
      "\n",
      "BET: 700\n",
      "TOTAL MONEY: 100\n",
      "\n",
      "-----------------------------------------------------------\n",
      "!!!!!!!BLACK JACK!!!!!!!\n",
      "Computer WINS!!\n",
      "Want to play again (Y/N): y\n",
      "CommonCOld outta money!!\n",
      "Thanks for playing :D\n"
     ]
    }
   ],
   "source": [
    "print(\"****************Welcome to Black Jack******************* \\n \")\n",
    " \n",
    "print(\"1. Single Player vs Automated Dealer \\n\" )\n",
    "\n",
    "print(\"2. Hit cards without going beyond value 21 \\n\" )\n",
    "\n",
    "print(\"3. Dealer must hit till 17 \\n\" )\n",
    "\n",
    "print(\"4. Person with least value or beyond 21 loses \\n\" ) \n",
    " \n",
    "choice=input(\"Press 'Y' to play: \")\n",
    "\n",
    "if choice=='y'or choice=='Y': \n",
    "    name = input(\"Enter your in-game name: \")\n",
    "    money = int(input(\"Enter your total money: \"))\n",
    "    P1,P2,mydeck = create_player(name, money)\n",
    "    \n",
    "while choice=='y'or choice=='Y': \n",
    "    \n",
    "    #Clearing player's hands\n",
    "    P1.card_list=[]\n",
    "    P2.card_list=[]\n",
    "    P1.cards_sum=0\n",
    "    P2.cards_sum=0\n",
    "    \n",
    "    #player list\n",
    "    player=[P1,P2]\n",
    "\n",
    "    if P1.total_money==0:\n",
    "        print(f\"{P1.name} outta money!!\")\n",
    "        choice='n'\n",
    "        break\n",
    "    \n",
    "    elif P2.total_money==0:\n",
    "        print(f\"{P2.name} outta money!!\")\n",
    "        choice='n'\n",
    "        break\n",
    "    \n",
    "    #placing bet\n",
    "    P1.place_bet()\n",
    "    P2.place_bet(P1.bet)\n",
    "\n",
    "    #Card distribution\n",
    "    for x in range(2): \n",
    "        P1.add_card(mydeck.pop())\n",
    "        P2.add_card(mydeck.pop())\n",
    "\n",
    "    #stats\n",
    "    P1.stats()\n",
    "    P2.hidden_stats()\n",
    "            \n",
    "\n",
    "    #P1 goes first\n",
    "    for turn in range (2):\n",
    "        \n",
    "        print(\"\\n\")\n",
    "        player[turn].stats()\n",
    "        print(f\"{player[turn].name}'s turn \\n\")\n",
    "        flag=0\n",
    "       \n",
    "    \n",
    "        #hit or stay\n",
    "        \n",
    "        loop=True\n",
    "        while loop:\n",
    "            if player[turn].name == 'Computer':\n",
    "                while player[turn].cards_sum < 17:\n",
    "                    player[turn].add_card(mydeck.pop())\n",
    "                    player[turn].stats()\n",
    "\n",
    "            if player[turn].cards_sum >= 21:\n",
    "                flag=1\n",
    "                break\n",
    "\n",
    "            if player[turn].name != 'Computer':\n",
    "                choice=int(input(\"HIT OR STAY (1/2)? \"))\n",
    "            else:\n",
    "                choice=random.choice([1,2])\n",
    "            if choice==1:\n",
    "                player[turn].add_card(mydeck.pop())\n",
    "                player[turn].stats()\n",
    "\n",
    "            elif choice==2:\n",
    "                loop=False\n",
    "                break\n",
    "        \n",
    "        \n",
    "        #break out of for loop\n",
    "        if flag==1: \n",
    "            break\n",
    "    \n",
    "    \n",
    "    if P1.cards_sum > P2.cards_sum:\n",
    "        if P1.cards_sum > 21:\n",
    "            print(\"BUST!!!\")\n",
    "            print(f\"{P2.name} WINS!!\")\n",
    "            P2.money_updater(P1.bet)\n",
    "            \n",
    "        elif P1.cards_sum <= 21:\n",
    "            if P1.cards_sum == 21:\n",
    "                print(\"!!!!!!!BLACK JACK!!!!!!!\")\n",
    "            print(f\"{P1.name} WINS!!\")\n",
    "            P1.money_updater(P2.bet)\n",
    "            \n",
    "    \n",
    "    elif P1.cards_sum < P2.cards_sum:\n",
    "        if P2.cards_sum > 21:\n",
    "            print(\"BUST!!!\")\n",
    "            print(f\"{P1.name} WINS!!\")\n",
    "            P1.money_updater(P2.bet)\n",
    "            \n",
    "        elif P2.cards_sum <= 21:\n",
    "            if P2.cards_sum == 21:\n",
    "                print(\"!!!!!!!BLACK JACK!!!!!!!\")\n",
    "            print(f\"{P2.name} WINS!!\")\n",
    "            P2.money_updater(P1.bet)\n",
    "    \n",
    "   \n",
    "    else:\n",
    "        print(\"Its a Tie!!\")\n",
    "        P1.money_updater()\n",
    "        P2.money_updater()\n",
    "        \n",
    "    choice=input(\"Want to play again (Y/N): \")   \n",
    "     \n",
    "\n",
    "print(\"Thanks for playing :D\")  "
   ]
  },
  {
   "cell_type": "code",
   "execution_count": null,
   "metadata": {},
   "outputs": [],
   "source": [
    "create_player('vv', 300)"
   ]
  },
  {
   "cell_type": "code",
   "execution_count": null,
   "metadata": {},
   "outputs": [],
   "source": [
    "P1.total_money"
   ]
  },
  {
   "cell_type": "code",
   "execution_count": 60,
   "metadata": {},
   "outputs": [],
   "source": [
    "P1=Player('vv', 200)"
   ]
  },
  {
   "cell_type": "code",
   "execution_count": 61,
   "metadata": {},
   "outputs": [
    {
     "data": {
      "text/plain": [
       "200"
      ]
     },
     "execution_count": 61,
     "metadata": {},
     "output_type": "execute_result"
    }
   ],
   "source": [
    "P1.total_money"
   ]
  },
  {
   "cell_type": "code",
   "execution_count": 18,
   "metadata": {},
   "outputs": [],
   "source": [
    "from random import choice"
   ]
  },
  {
   "cell_type": "code",
   "execution_count": 38,
   "metadata": {},
   "outputs": [
    {
     "data": {
      "text/plain": [
       "2"
      ]
     },
     "execution_count": 38,
     "metadata": {},
     "output_type": "execute_result"
    }
   ],
   "source": [
    "choice([1,2])"
   ]
  },
  {
   "cell_type": "code",
   "execution_count": null,
   "metadata": {},
   "outputs": [],
   "source": []
  },
  {
   "cell_type": "code",
   "execution_count": 43,
   "metadata": {},
   "outputs": [],
   "source": [
    "from random import choice"
   ]
  },
  {
   "cell_type": "code",
   "execution_count": 17,
   "metadata": {},
   "outputs": [],
   "source": [
    "a=[1,2,3]"
   ]
  },
  {
   "cell_type": "code",
   "execution_count": 18,
   "metadata": {},
   "outputs": [],
   "source": [
    "shuffle(a)"
   ]
  },
  {
   "cell_type": "code",
   "execution_count": 19,
   "metadata": {},
   "outputs": [
    {
     "data": {
      "text/plain": [
       "[3, 1, 2]"
      ]
     },
     "execution_count": 19,
     "metadata": {},
     "output_type": "execute_result"
    }
   ],
   "source": [
    "a"
   ]
  },
  {
   "cell_type": "code",
   "execution_count": null,
   "metadata": {},
   "outputs": [],
   "source": []
  }
 ],
 "metadata": {
  "kernelspec": {
   "display_name": "Python 3",
   "language": "python",
   "name": "python3"
  },
  "language_info": {
   "codemirror_mode": {
    "name": "ipython",
    "version": 3
   },
   "file_extension": ".py",
   "mimetype": "text/x-python",
   "name": "python",
   "nbconvert_exporter": "python",
   "pygments_lexer": "ipython3",
   "version": "3.7.3"
  }
 },
 "nbformat": 4,
 "nbformat_minor": 2
}
